{
 "cells": [
  {
   "cell_type": "code",
   "execution_count": 202,
   "metadata": {},
   "outputs": [
    {
     "data": {
      "text/html": [
       "<div>\n",
       "<style scoped>\n",
       "    .dataframe tbody tr th:only-of-type {\n",
       "        vertical-align: middle;\n",
       "    }\n",
       "\n",
       "    .dataframe tbody tr th {\n",
       "        vertical-align: top;\n",
       "    }\n",
       "\n",
       "    .dataframe thead th {\n",
       "        text-align: right;\n",
       "    }\n",
       "</style>\n",
       "<table border=\"1\" class=\"dataframe\">\n",
       "  <thead>\n",
       "    <tr style=\"text-align: right;\">\n",
       "      <th></th>\n",
       "      <th>country</th>\n",
       "      <th>beer_servings</th>\n",
       "      <th>spirit_servings</th>\n",
       "      <th>wine_servings</th>\n",
       "      <th>total_litres_of_pure_alcohol</th>\n",
       "      <th>continent</th>\n",
       "    </tr>\n",
       "  </thead>\n",
       "  <tbody>\n",
       "    <tr>\n",
       "      <th>0</th>\n",
       "      <td>Afghanistan</td>\n",
       "      <td>0</td>\n",
       "      <td>0</td>\n",
       "      <td>0</td>\n",
       "      <td>0.0</td>\n",
       "      <td>AS</td>\n",
       "    </tr>\n",
       "    <tr>\n",
       "      <th>1</th>\n",
       "      <td>Albania</td>\n",
       "      <td>89</td>\n",
       "      <td>132</td>\n",
       "      <td>54</td>\n",
       "      <td>4.9</td>\n",
       "      <td>EU</td>\n",
       "    </tr>\n",
       "    <tr>\n",
       "      <th>2</th>\n",
       "      <td>Algeria</td>\n",
       "      <td>25</td>\n",
       "      <td>0</td>\n",
       "      <td>14</td>\n",
       "      <td>0.7</td>\n",
       "      <td>AF</td>\n",
       "    </tr>\n",
       "    <tr>\n",
       "      <th>3</th>\n",
       "      <td>Andorra</td>\n",
       "      <td>245</td>\n",
       "      <td>138</td>\n",
       "      <td>312</td>\n",
       "      <td>12.4</td>\n",
       "      <td>EU</td>\n",
       "    </tr>\n",
       "    <tr>\n",
       "      <th>4</th>\n",
       "      <td>Angola</td>\n",
       "      <td>217</td>\n",
       "      <td>57</td>\n",
       "      <td>45</td>\n",
       "      <td>5.9</td>\n",
       "      <td>AF</td>\n",
       "    </tr>\n",
       "    <tr>\n",
       "      <th>...</th>\n",
       "      <td>...</td>\n",
       "      <td>...</td>\n",
       "      <td>...</td>\n",
       "      <td>...</td>\n",
       "      <td>...</td>\n",
       "      <td>...</td>\n",
       "    </tr>\n",
       "    <tr>\n",
       "      <th>188</th>\n",
       "      <td>Venezuela</td>\n",
       "      <td>333</td>\n",
       "      <td>100</td>\n",
       "      <td>3</td>\n",
       "      <td>7.7</td>\n",
       "      <td>SA</td>\n",
       "    </tr>\n",
       "    <tr>\n",
       "      <th>189</th>\n",
       "      <td>Vietnam</td>\n",
       "      <td>111</td>\n",
       "      <td>2</td>\n",
       "      <td>1</td>\n",
       "      <td>2.0</td>\n",
       "      <td>AS</td>\n",
       "    </tr>\n",
       "    <tr>\n",
       "      <th>190</th>\n",
       "      <td>Yemen</td>\n",
       "      <td>6</td>\n",
       "      <td>0</td>\n",
       "      <td>0</td>\n",
       "      <td>0.1</td>\n",
       "      <td>AS</td>\n",
       "    </tr>\n",
       "    <tr>\n",
       "      <th>191</th>\n",
       "      <td>Zambia</td>\n",
       "      <td>32</td>\n",
       "      <td>19</td>\n",
       "      <td>4</td>\n",
       "      <td>2.5</td>\n",
       "      <td>AF</td>\n",
       "    </tr>\n",
       "    <tr>\n",
       "      <th>192</th>\n",
       "      <td>Zimbabwe</td>\n",
       "      <td>64</td>\n",
       "      <td>18</td>\n",
       "      <td>4</td>\n",
       "      <td>4.7</td>\n",
       "      <td>AF</td>\n",
       "    </tr>\n",
       "  </tbody>\n",
       "</table>\n",
       "<p>193 rows × 6 columns</p>\n",
       "</div>"
      ],
      "text/plain": [
       "         country  beer_servings  spirit_servings  wine_servings  \\\n",
       "0    Afghanistan              0                0              0   \n",
       "1        Albania             89              132             54   \n",
       "2        Algeria             25                0             14   \n",
       "3        Andorra            245              138            312   \n",
       "4         Angola            217               57             45   \n",
       "..           ...            ...              ...            ...   \n",
       "188    Venezuela            333              100              3   \n",
       "189      Vietnam            111                2              1   \n",
       "190        Yemen              6                0              0   \n",
       "191       Zambia             32               19              4   \n",
       "192     Zimbabwe             64               18              4   \n",
       "\n",
       "     total_litres_of_pure_alcohol continent  \n",
       "0                             0.0        AS  \n",
       "1                             4.9        EU  \n",
       "2                             0.7        AF  \n",
       "3                            12.4        EU  \n",
       "4                             5.9        AF  \n",
       "..                            ...       ...  \n",
       "188                           7.7        SA  \n",
       "189                           2.0        AS  \n",
       "190                           0.1        AS  \n",
       "191                           2.5        AF  \n",
       "192                           4.7        AF  \n",
       "\n",
       "[193 rows x 6 columns]"
      ]
     },
     "execution_count": 202,
     "metadata": {},
     "output_type": "execute_result"
    }
   ],
   "source": [
    "import numpy as np\n",
    "import pandas as pd\n",
    "import matplotlib.pyplot as plt\n",
    "import matplotlib\n",
    "# 한글\n",
    "matplotlib.rcParams['font.family'] = 'Malgun Gothic' # window용\n",
    "matplotlib.rcParams['font.size']= 15 # 글자 크기\n",
    "matplotlib.rcParams['axes.unicode_minus'] = False\n",
    "\n",
    "# df = pd.read_excel('score.xlsx',index_col='지원번호')\n",
    "df=pd.read_csv('drinks.csv')\n",
    "df"
   ]
  },
  {
   "cell_type": "code",
   "execution_count": 204,
   "metadata": {},
   "outputs": [],
   "source": [
    "a = df.groupby('continent')['total_servings'].sum()"
   ]
  },
  {
   "cell_type": "code",
   "execution_count": 205,
   "metadata": {},
   "outputs": [
    {
     "data": {
      "text/plain": [
       "Index(['AF', 'AS', 'EU', 'OC', 'SA'], dtype='object', name='continent')"
      ]
     },
     "execution_count": 205,
     "metadata": {},
     "output_type": "execute_result"
    }
   ],
   "source": [
    "a.index"
   ]
  },
  {
   "cell_type": "code",
   "execution_count": 246,
   "metadata": {},
   "outputs": [
    {
     "data": {
      "image/png": "[encoded data removed]",
      "text/plain": [
       "<Figure size 640x480 with 1 Axes>"
      ]
     },
     "metadata": {},
     "output_type": "display_data"
    }
   ],
   "source": [
    "### total_servings 컬럼 추가\n",
    "### 대륙별 total_servings 원 그래프로 출력\n",
    "df['total_servings'] = df['beer_servings'] + df['spirit_servings'] + df['wine_servings']\n",
    "a = df.groupby('continent')['total_servings'].sum()\n",
    "\n",
    "wedgeprops={'width':0.9,'edgecolor':'black','linewidth':1}\n",
    "labels=a.index\n",
    "colors=['plum','beige','skyblue','bisque','khaki','peachpuff']\n",
    "\n",
    "plt.title('대륙별 술 소비량')\n",
    "plt.pie(a,labels=labels, autopct='%.1f%%', wedgeprops=wedgeprops, colors=colors, startangle=90, counterclock=False)\n",
    "plt.legend(loc=(1,0.2),title = '술 소비량')\n",
    "plt.show()"
   ]
  },
  {
   "cell_type": "code",
   "execution_count": 248,
   "metadata": {},
   "outputs": [
    {
     "data": {
      "text/plain": [
       "Index(['country', 'beer_servings', 'spirit_servings', 'wine_servings',\n",
       "       'total_litres_of_pure_alcohol', 'continent', 'total_servings', 'mean'],\n",
       "      dtype='object')"
      ]
     },
     "execution_count": 248,
     "metadata": {},
     "output_type": "execute_result"
    }
   ],
   "source": [
    "df.columns"
   ]
  },
  {
   "cell_type": "code",
   "execution_count": 247,
   "metadata": {},
   "outputs": [
    {
     "data": {
      "text/plain": [
       "continent\n",
       "AF    False\n",
       "AS    False\n",
       "EU     True\n",
       "OC    False\n",
       "SA     True\n",
       "Name: total_litres_of_pure_alcohol, dtype: bool"
      ]
     },
     "execution_count": 247,
     "metadata": {},
     "output_type": "execute_result"
    }
   ],
   "source": [
    "## 전체 평균보다 많은 알콜의 도수를 섭취하는 대륙을 출력\n",
    "b = df['total_litres_of_pure_alcohol'].mean() # 전체 평균 도수\n",
    "c = df.groupby('continent')['total_litres_of_pure_alcohol'].mean() # 대륙별 평균 도수\n",
    "\n",
    "filt = b<c\n",
    "filt"
   ]
  },
  {
   "cell_type": "code",
   "execution_count": 249,
   "metadata": {},
   "outputs": [
    {
     "data": {
      "text/plain": [
       "continent\n",
       "EU    193.777778\n",
       "SA    175.083333\n",
       "OC     89.687500\n",
       "AF     61.471698\n",
       "AS     37.045455\n",
       "Name: beer_servings, dtype: float64"
      ]
     },
     "execution_count": 249,
     "metadata": {},
     "output_type": "execute_result"
    }
   ],
   "source": [
    "# 1.대륙별 beer_servings를 높은 순으로 출력\n",
    "df.groupby('continent')['beer_servings'].mean().sort_values(ascending=False)\n"
   ]
  },
  {
   "cell_type": "code",
   "execution_count": 250,
   "metadata": {},
   "outputs": [
    {
     "data": {
      "text/plain": [
       "continent\n",
       "EU    193.777778\n",
       "Name: beer_servings, dtype: float64"
      ]
     },
     "execution_count": 250,
     "metadata": {},
     "output_type": "execute_result"
    }
   ],
   "source": [
    "# 2.제일 높은거 1개 출력\n",
    "df.groupby('continent')['beer_servings'].mean().sort_values(ascending=False).head(1)"
   ]
  },
  {
   "cell_type": "code",
   "execution_count": 254,
   "metadata": {},
   "outputs": [
    {
     "data": {
      "image/png": "[encoded data removed]",
      "text/plain": [
       "<Figure size 640x480 with 1 Axes>"
      ]
     },
     "metadata": {},
     "output_type": "display_data"
    }
   ],
   "source": [
    "## 대륙별 total_litres_of_pure_alcohol 막대그래프로 출력하시오.\n",
    "## 마지막에는 평균 막대그래프를 출력하시오.\n",
    "# 1. 전체 total_litres_of_pure_alcohol 평균을 구하기\n",
    "data = df['total_litres_of_pure_alcohol'].mean()\n",
    "\n",
    "# 2. 대륙별 total_litres_of_pure_alcohol 평균을 구하기\n",
    "# 'AF', 'AS', 'EU', 'OC', 'OT', 'SA'\n",
    "\n",
    "con_df = df.groupby('continent')['total_litres_of_pure_alcohol'].mean()\n",
    "con_df\n",
    "\n",
    "# 3. 컬럼에 대륙별 평균을 추가하기 mean\n",
    "con_df['mean'] = data\n",
    "\n",
    "# 4. 막대그래프를 출력\n",
    "con_bar = plt.bar(con_df.index,con_df)\n",
    "\n",
    "\n",
    "plt.grid(axis='y',ls='--',alpha=0.2) #격자선\n",
    "con_bar[len(con_df)-1].set_color('red')\n",
    "\n",
    "\n",
    "\n"
   ]
  }
 ],
 "metadata": {
  "kernelspec": {
   "display_name": "Python 3",
   "language": "python",
   "name": "python3"
  },
  "language_info": {
   "codemirror_mode": {
    "name": "ipython",
    "version": 3
   },
   "file_extension": ".py",
   "mimetype": "text/x-python",
   "name": "python",
   "nbconvert_exporter": "python",
   "pygments_lexer": "ipython3",
   "version": "3.12.6"
  }
 },
 "nbformat": 4,
 "nbformat_minor": 2
}
