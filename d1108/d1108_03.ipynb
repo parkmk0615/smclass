{
 "cells": [
  {
   "cell_type": "markdown",
   "metadata": {},
   "source": [
    "2014년 (사망+부산) * 1.2\n",
    "\n",
    "2015년 (사망+부상) * 1.5\n",
    "\n",
    "2015년 (사망+부상) * 1.3\n"
   ]
  },
  {
   "cell_type": "code",
   "execution_count": null,
   "metadata": {},
   "outputs": [],
   "source": [
    "import pandas as pd\n",
    "\n",
    "df= pd.read_csv('2014년졸음운전교통사고.csv',encoding='euc-kr')\n",
    "df2= pd.read_csv('2015년졸음운전교통사고.csv',encoding='euc-kr')\n",
    "df3= pd.read_csv('2016년졸음운전교통사고.csv',encoding='euc-kr')\n",
    "\n",
    "\n",
    "df['가중치2']= (df['사망(명)'] + df['부상(명)'])* 1.2\n",
    "df2['가중치2']= (df2['사망(명)'] + df2['부상(명)'])* 1.5\n",
    "df3['가중치2']= (df3['사망(명)'] + df3['부상(명)'])* 1.3\n",
    "\n",
    "\n",
    "df4=pd.concat([df,df2,df3])\n",
    "df4['가중치1']= (df4['사망(명)'] + df4['부상(명)'])* 1.1\n",
    "df4"
   ]
  },
  {
   "cell_type": "code",
   "execution_count": null,
   "metadata": {},
   "outputs": [],
   "source": [
    "# 조건식 2014년에 해당되는 조건식 구성\n",
    "filt =df['구분'].str.slice(start=0, stop=4)=='2014'\n",
    "filt"
   ]
  },
  {
   "cell_type": "code",
   "execution_count": null,
   "metadata": {},
   "outputs": [],
   "source": [
    "df"
   ]
  },
  {
   "cell_type": "code",
   "execution_count": null,
   "metadata": {},
   "outputs": [],
   "source": [
    "# 가중치 2014에 해당되는 가중치2 계산해서 데이터 수정\n",
    "df.loc[filt,'가중치2'] = (df['사망(명)'] + df['부상(명)'])*1.2\n",
    "df\n"
   ]
  }
 ],
 "metadata": {
  "kernelspec": {
   "display_name": "Python 3",
   "language": "python",
   "name": "python3"
  },
  "language_info": {
   "codemirror_mode": {
    "name": "ipython",
    "version": 3
   },
   "file_extension": ".py",
   "mimetype": "text/x-python",
   "name": "python",
   "nbconvert_exporter": "python",
   "pygments_lexer": "ipython3",
   "version": "3.12.6"
  }
 },
 "nbformat": 4,
 "nbformat_minor": 2
}
